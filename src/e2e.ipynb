{
 "cells": [
  {
   "cell_type": "code",
   "execution_count": 1,
   "metadata": {},
   "outputs": [],
   "source": [
    "models = [i for i in [\"trained_iris_model_11_5\", \"trained_iris_model_14_11\", \"trained_iris_model_5_11_8\", \"trained_iris_model_14_5\", \"trained_iris_model_big\"]]\n",
    "executable_path = \"inference/.stack-work/dist/ab060f89/build/inference-exe/inference-exe.exe\""
   ]
  },
  {
   "cell_type": "code",
   "execution_count": 2,
   "metadata": {},
   "outputs": [],
   "source": [
    "import pickle\n",
    "import numpy as np\n",
    "import pandas as pd\n",
    "import matplotlib.pyplot as plt"
   ]
  },
  {
   "cell_type": "code",
   "execution_count": 3,
   "metadata": {},
   "outputs": [
    {
     "data": {
      "text/plain": [
       "(20150, 4)"
      ]
     },
     "execution_count": 3,
     "metadata": {},
     "output_type": "execute_result"
    }
   ],
   "source": [
    "data = \"iris_generated_unlab.csv\"\n",
    "X = np.array(pd.read_csv(data))\n",
    "X.shape"
   ]
  },
  {
   "cell_type": "code",
   "execution_count": 4,
   "metadata": {},
   "outputs": [],
   "source": [
    "from subprocess import run"
   ]
  },
  {
   "cell_type": "code",
   "execution_count": 23,
   "metadata": {},
   "outputs": [
    {
     "name": "stderr",
     "output_type": "stream",
     "text": [
      "c:\\Users\\santr\\My Drive (santripta.sharma_ug24@ashoka.edu.in)\\Academic Work\\Sem6\\FuncProg\\Proj\\venv\\lib\\site-packages\\sklearn\\base.py:493: UserWarning: X does not have valid feature names, but MLPClassifier was fitted with feature names\n",
      "  warnings.warn(\n"
     ]
    },
    {
     "name": "stdout",
     "output_type": "stream",
     "text": [
      "2.6773136968697778e-17\n"
     ]
    },
    {
     "name": "stderr",
     "output_type": "stream",
     "text": [
      "c:\\Users\\santr\\My Drive (santripta.sharma_ug24@ashoka.edu.in)\\Academic Work\\Sem6\\FuncProg\\Proj\\venv\\lib\\site-packages\\sklearn\\base.py:493: UserWarning: X does not have valid feature names, but MLPClassifier was fitted with feature names\n",
      "  warnings.warn(\n"
     ]
    },
    {
     "name": "stdout",
     "output_type": "stream",
     "text": [
      "1.2013040000631881e-18\n"
     ]
    },
    {
     "name": "stderr",
     "output_type": "stream",
     "text": [
      "c:\\Users\\santr\\My Drive (santripta.sharma_ug24@ashoka.edu.in)\\Academic Work\\Sem6\\FuncProg\\Proj\\venv\\lib\\site-packages\\sklearn\\base.py:493: UserWarning: X does not have valid feature names, but MLPClassifier was fitted with feature names\n",
      "  warnings.warn(\n"
     ]
    },
    {
     "name": "stdout",
     "output_type": "stream",
     "text": [
      "6.310251945265586e-18\n"
     ]
    },
    {
     "name": "stderr",
     "output_type": "stream",
     "text": [
      "c:\\Users\\santr\\My Drive (santripta.sharma_ug24@ashoka.edu.in)\\Academic Work\\Sem6\\FuncProg\\Proj\\venv\\lib\\site-packages\\sklearn\\base.py:493: UserWarning: X does not have valid feature names, but MLPClassifier was fitted with feature names\n",
      "  warnings.warn(\n"
     ]
    },
    {
     "name": "stdout",
     "output_type": "stream",
     "text": [
      "2.835251176352418e-17\n"
     ]
    },
    {
     "name": "stderr",
     "output_type": "stream",
     "text": [
      "c:\\Users\\santr\\My Drive (santripta.sharma_ug24@ashoka.edu.in)\\Academic Work\\Sem6\\FuncProg\\Proj\\venv\\lib\\site-packages\\sklearn\\base.py:493: UserWarning: X does not have valid feature names, but MLPClassifier was fitted with feature names\n",
      "  warnings.warn(\n"
     ]
    },
    {
     "name": "stdout",
     "output_type": "stream",
     "text": [
      "4.882213893934445e-16\n"
     ]
    }
   ],
   "source": [
    "mses = []\n",
    "\n",
    "for model in models:\n",
    "\twith open(\"models/\" + model + \".pkl\", \"rb\") as f:\n",
    "\t\tffn = pickle.load(f)\n",
    "\t\n",
    "\tactual = ffn.predict_proba(X)\n",
    "\t\n",
    "\tres = run([executable_path, \"weights/\" + model + \".txt\", data], capture_output = True)\n",
    "\tout = str(res.stdout)\n",
    "\tprobabilities = out.split(\":\")[1].split(\"Predicted\")[0].replace(\"\\\\r\", \"\").replace(\"\\\\n\", \"\")\n",
    "\tmat = np.array(eval(probabilities))\n",
    "\n",
    "\tmse = np.mean((actual.flatten() - mat.flatten()) ** 2)\n",
    "\tprint(mse)\n",
    "\tmses.append(mse)"
   ]
  },
  {
   "cell_type": "code",
   "execution_count": 31,
   "metadata": {},
   "outputs": [
    {
     "data": {
      "image/png": "[encoded data removed]",
      "text/plain": [
       "<Figure size 640x480 with 1 Axes>"
      ]
     },
     "metadata": {},
     "output_type": "display_data"
    }
   ],
   "source": [
    "plt.bar([\"_\".join(m.split(\"_\")[3:]) for m in models], mses)\n",
    "plt.savefig(\"mse.png\")"
   ]
  }
 ],
 "metadata": {
  "kernelspec": {
   "display_name": "venv",
   "language": "python",
   "name": "python3"
  },
  "language_info": {
   "codemirror_mode": {
    "name": "ipython",
    "version": 3
   },
   "file_extension": ".py",
   "mimetype": "text/x-python",
   "name": "python",
   "nbconvert_exporter": "python",
   "pygments_lexer": "ipython3",
   "version": "3.10.7"
  }
 },
 "nbformat": 4,
 "nbformat_minor": 2
}
