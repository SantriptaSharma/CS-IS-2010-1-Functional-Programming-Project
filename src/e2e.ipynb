{
 "cells": [
  {
   "cell_type": "code",
   "execution_count": 10,
   "metadata": {},
   "outputs": [],
   "source": [
    "models = [i for i in [\"trained_iris_model_11_14\", \"trained_iris_model_8_5\", \"trained_iris_model_5_11_8\", \"trained_iris_model_10\", \"trained_iris_model_big\"]]\n",
    "executable_path = \"inference/.stack-work/dist/ab060f89/build/inference-exe/inference-exe.exe\""
   ]
  },
  {
   "cell_type": "code",
   "execution_count": 11,
   "metadata": {},
   "outputs": [],
   "source": [
    "import pickle\n",
    "import numpy as np\n",
    "import pandas as pd\n",
    "import matplotlib.pyplot as plt"
   ]
  },
  {
   "cell_type": "code",
   "execution_count": 12,
   "metadata": {},
   "outputs": [
    {
     "data": {
      "text/plain": [
       "(20150, 4)"
      ]
     },
     "execution_count": 12,
     "metadata": {},
     "output_type": "execute_result"
    }
   ],
   "source": [
    "data = \"iris_generated_unlab.csv\"\n",
    "X = np.array(pd.read_csv(data))\n",
    "X.shape"
   ]
  },
  {
   "cell_type": "code",
   "execution_count": 18,
   "metadata": {},
   "outputs": [
    {
     "name": "stdout",
     "output_type": "stream",
     "text": [
      "c:\\Users\\santr\\My Drive (santripta.sharma_ug24@ashoka.edu.in)\\Academic Work\\Sem6\\FuncProg\\Proj\\src\n"
     ]
    }
   ],
   "source": [
    "from subprocess import run\n",
    "from os import getcwd\n",
    "\n",
    "print(getcwd())"
   ]
  },
  {
   "cell_type": "code",
   "execution_count": 27,
   "metadata": {},
   "outputs": [
    {
     "name": "stderr",
     "output_type": "stream",
     "text": [
      "c:\\Users\\santr\\My Drive (santripta.sharma_ug24@ashoka.edu.in)\\Academic Work\\Sem6\\FuncProg\\Proj\\venv\\lib\\site-packages\\sklearn\\base.py:493: UserWarning: X does not have valid feature names, but MLPClassifier was fitted with feature names\n",
      "  warnings.warn(\n"
     ]
    },
    {
     "name": "stdout",
     "output_type": "stream",
     "text": [
      "3.3581349838680596e-32\n"
     ]
    },
    {
     "name": "stderr",
     "output_type": "stream",
     "text": [
      "c:\\Users\\santr\\My Drive (santripta.sharma_ug24@ashoka.edu.in)\\Academic Work\\Sem6\\FuncProg\\Proj\\venv\\lib\\site-packages\\sklearn\\base.py:493: UserWarning: X does not have valid feature names, but MLPClassifier was fitted with feature names\n",
      "  warnings.warn(\n"
     ]
    },
    {
     "name": "stdout",
     "output_type": "stream",
     "text": [
      "1.694815191792623e-32\n"
     ]
    },
    {
     "name": "stderr",
     "output_type": "stream",
     "text": [
      "c:\\Users\\santr\\My Drive (santripta.sharma_ug24@ashoka.edu.in)\\Academic Work\\Sem6\\FuncProg\\Proj\\venv\\lib\\site-packages\\sklearn\\base.py:493: UserWarning: X does not have valid feature names, but MLPClassifier was fitted with feature names\n",
      "  warnings.warn(\n"
     ]
    },
    {
     "name": "stdout",
     "output_type": "stream",
     "text": [
      "3.8207970642142896e-32\n"
     ]
    },
    {
     "name": "stderr",
     "output_type": "stream",
     "text": [
      "c:\\Users\\santr\\My Drive (santripta.sharma_ug24@ashoka.edu.in)\\Academic Work\\Sem6\\FuncProg\\Proj\\venv\\lib\\site-packages\\sklearn\\base.py:493: UserWarning: X does not have valid feature names, but MLPClassifier was fitted with feature names\n",
      "  warnings.warn(\n"
     ]
    },
    {
     "name": "stdout",
     "output_type": "stream",
     "text": [
      "1.986788939929278e-32\n"
     ]
    },
    {
     "name": "stderr",
     "output_type": "stream",
     "text": [
      "c:\\Users\\santr\\My Drive (santripta.sharma_ug24@ashoka.edu.in)\\Academic Work\\Sem6\\FuncProg\\Proj\\venv\\lib\\site-packages\\sklearn\\base.py:493: UserWarning: X does not have valid feature names, but MLPClassifier was fitted with feature names\n",
      "  warnings.warn(\n"
     ]
    },
    {
     "name": "stdout",
     "output_type": "stream",
     "text": [
      "1.0205604707571506e-30\n"
     ]
    }
   ],
   "source": [
    "mses = []\n",
    "\n",
    "for model in models:\n",
    "\twith open(\"models/\" + model + \".pkl\", \"rb\") as f:\n",
    "\t\tffn = pickle.load(f)\n",
    "\t\n",
    "\tactual = ffn.predict_proba(X)\n",
    "\t\n",
    "\tres = run([executable_path, \"weights/\" + model + \".mdl\", data], capture_output = True)\n",
    "\tout = str(res.stdout)\n",
    "\tprobabilities = out.split(\":\")[1].split(\"Predicted\")[0].replace(\"\\\\r\", \"\").replace(\"\\\\n\", \"\")\n",
    "\tmat = np.array(eval(probabilities))\n",
    "\n",
    "\tmse = np.mean((actual.flatten() - mat.flatten()) ** 2)\n",
    "\tprint(mse)\n",
    "\tmses.append(mse)"
   ]
  },
  {
   "cell_type": "code",
   "execution_count": 28,
   "metadata": {},
   "outputs": [
    {
     "data": {
      "image/png": "[encoded data removed]",
      "text/plain": [
       "<Figure size 640x480 with 1 Axes>"
      ]
     },
     "metadata": {},
     "output_type": "display_data"
    }
   ],
   "source": [
    "plt.bar([\"_\".join(m.split(\"_\")[3:]) for m in models], mses)\n",
    "plt.savefig(\"mse.png\")"
   ]
  }
 ],
 "metadata": {
  "kernelspec": {
   "display_name": "venv",
   "language": "python",
   "name": "python3"
  },
  "language_info": {
   "codemirror_mode": {
    "name": "ipython",
    "version": 3
   },
   "file_extension": ".py",
   "mimetype": "text/x-python",
   "name": "python",
   "nbconvert_exporter": "python",
   "pygments_lexer": "ipython3",
   "version": "3.10.7"
  }
 },
 "nbformat": 4,
 "nbformat_minor": 2
}
