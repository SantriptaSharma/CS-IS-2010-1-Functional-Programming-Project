{
 "cells": [
  {
   "cell_type": "code",
   "execution_count": 1,
   "metadata": {},
   "outputs": [],
   "source": [
    "import pandas as pd\n",
    "import numpy as np\n",
    "import matplotlib.pyplot as plt"
   ]
  },
  {
   "cell_type": "code",
   "execution_count": 20,
   "metadata": {},
   "outputs": [],
   "source": [
    "df = pd.read_csv(\"iris.csv\")\n",
    "\n",
    "X = np.array(df.drop(columns = \"species\"))\n",
    "y = df[\"species\"]\n",
    "\n",
    "colmeans = np.mean(X, axis = 0)\n",
    "colstd = np.std(X, axis = 0)"
   ]
  },
  {
   "cell_type": "code",
   "execution_count": 32,
   "metadata": {},
   "outputs": [],
   "source": [
    "COUNT = 20000\n",
    "\n",
    "# not a great way of modelling, since label unaware, but good enough for benchmarking and comparing concordance\n",
    "generated = np.round(np.array([np.random.multivariate_normal(colmeans, np.diag(colstd)) for _ in range(COUNT)]), 2)\n",
    "\n",
    "Xb = np.concatenate([X, generated])"
   ]
  },
  {
   "cell_type": "code",
   "execution_count": 33,
   "metadata": {},
   "outputs": [],
   "source": [
    "Xb = pd.DataFrame(Xb, None, [\"sepal_length\", \"sepal_width\", \"petal_length\", \"petal_width\"])\n",
    "Xb.to_csv(\"iris_generated_unlab.csv\", index = False)"
   ]
  }
 ],
 "metadata": {
  "kernelspec": {
   "display_name": "venv",
   "language": "python",
   "name": "python3"
  },
  "language_info": {
   "codemirror_mode": {
    "name": "ipython",
    "version": 3
   },
   "file_extension": ".py",
   "mimetype": "text/x-python",
   "name": "python",
   "nbconvert_exporter": "python",
   "pygments_lexer": "ipython3",
   "version": "3.10.7"
  }
 },
 "nbformat": 4,
 "nbformat_minor": 2
}
