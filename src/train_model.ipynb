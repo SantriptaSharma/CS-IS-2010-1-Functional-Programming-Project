{
 "cells": [
  {
   "cell_type": "code",
   "execution_count": 91,
   "metadata": {},
   "outputs": [],
   "source": [
    "import numpy as np\n",
    "import matplotlib.pyplot as plt\n",
    "import pandas as pd"
   ]
  },
  {
   "cell_type": "code",
   "execution_count": 92,
   "metadata": {},
   "outputs": [
    {
     "name": "stdout",
     "output_type": "stream",
     "text": [
      "(150, 5)\n"
     ]
    },
    {
     "data": {
      "text/html": [
       "<div>\n",
       "<style scoped>\n",
       "    .dataframe tbody tr th:only-of-type {\n",
       "        vertical-align: middle;\n",
       "    }\n",
       "\n",
       "    .dataframe tbody tr th {\n",
       "        vertical-align: top;\n",
       "    }\n",
       "\n",
       "    .dataframe thead th {\n",
       "        text-align: right;\n",
       "    }\n",
       "</style>\n",
       "<table border=\"1\" class=\"dataframe\">\n",
       "  <thead>\n",
       "    <tr style=\"text-align: right;\">\n",
       "      <th></th>\n",
       "      <th>sepal_length</th>\n",
       "      <th>sepal_width</th>\n",
       "      <th>petal_length</th>\n",
       "      <th>petal_width</th>\n",
       "      <th>species</th>\n",
       "    </tr>\n",
       "  </thead>\n",
       "  <tbody>\n",
       "    <tr>\n",
       "      <th>15</th>\n",
       "      <td>5.7</td>\n",
       "      <td>4.4</td>\n",
       "      <td>1.5</td>\n",
       "      <td>0.4</td>\n",
       "      <td>setosa</td>\n",
       "    </tr>\n",
       "    <tr>\n",
       "      <th>66</th>\n",
       "      <td>5.6</td>\n",
       "      <td>3.0</td>\n",
       "      <td>4.5</td>\n",
       "      <td>1.5</td>\n",
       "      <td>versicolor</td>\n",
       "    </tr>\n",
       "    <tr>\n",
       "      <th>109</th>\n",
       "      <td>7.2</td>\n",
       "      <td>3.6</td>\n",
       "      <td>6.1</td>\n",
       "      <td>2.5</td>\n",
       "      <td>virginica</td>\n",
       "    </tr>\n",
       "    <tr>\n",
       "      <th>71</th>\n",
       "      <td>6.1</td>\n",
       "      <td>2.8</td>\n",
       "      <td>4.0</td>\n",
       "      <td>1.3</td>\n",
       "      <td>versicolor</td>\n",
       "    </tr>\n",
       "    <tr>\n",
       "      <th>54</th>\n",
       "      <td>6.5</td>\n",
       "      <td>2.8</td>\n",
       "      <td>4.6</td>\n",
       "      <td>1.5</td>\n",
       "      <td>versicolor</td>\n",
       "    </tr>\n",
       "  </tbody>\n",
       "</table>\n",
       "</div>"
      ],
      "text/plain": [
       "     sepal_length  sepal_width  petal_length  petal_width     species\n",
       "15            5.7          4.4           1.5          0.4      setosa\n",
       "66            5.6          3.0           4.5          1.5  versicolor\n",
       "109           7.2          3.6           6.1          2.5   virginica\n",
       "71            6.1          2.8           4.0          1.3  versicolor\n",
       "54            6.5          2.8           4.6          1.5  versicolor"
      ]
     },
     "execution_count": 92,
     "metadata": {},
     "output_type": "execute_result"
    }
   ],
   "source": [
    "# visualise 5 random rows from the iris dataset\n",
    "data = pd.read_csv(\"iris.csv\")\n",
    "print(data.shape)\n",
    "data.iloc[np.random.permutation(data.shape[0])[:5]]"
   ]
  },
  {
   "cell_type": "code",
   "execution_count": 93,
   "metadata": {},
   "outputs": [],
   "source": [
    "from sklearn.model_selection import train_test_split, GridSearchCV\n",
    "from sklearn.neural_network import MLPClassifier"
   ]
  },
  {
   "cell_type": "code",
   "execution_count": 94,
   "metadata": {},
   "outputs": [
    {
     "data": {
      "text/plain": [
       "[(5,),\n",
       " (6,),\n",
       " (7,),\n",
       " (8,),\n",
       " (9,),\n",
       " (10,),\n",
       " (11,),\n",
       " (12,),\n",
       " (13,),\n",
       " (14,),\n",
       " (5, 5),\n",
       " (5, 8),\n",
       " (5, 11),\n",
       " (5, 14),\n",
       " (8, 5),\n",
       " (8, 8),\n",
       " (8, 11),\n",
       " (8, 14),\n",
       " (11, 5),\n",
       " (11, 8),\n",
       " (11, 11),\n",
       " (11, 14),\n",
       " (14, 5),\n",
       " (14, 8),\n",
       " (14, 11),\n",
       " (14, 14)]"
      ]
     },
     "execution_count": 94,
     "metadata": {},
     "output_type": "execute_result"
    }
   ],
   "source": [
    "# possible hidden layer sizes to consider\n",
    "# single layer\n",
    "hidden_layer_sizes = [(i, ) for i in range(5, 15)]\n",
    "\n",
    "# two layers\n",
    "hidden_layer_sizes.extend([(i, j) for i in range(5, 15, 3) for j in range(5, 15, 3)])\n",
    "\n",
    "hidden_layer_sizes"
   ]
  },
  {
   "cell_type": "code",
   "execution_count": 95,
   "metadata": {},
   "outputs": [],
   "source": [
    "MAX_ITER = 5000"
   ]
  },
  {
   "cell_type": "code",
   "execution_count": 96,
   "metadata": {},
   "outputs": [],
   "source": [
    "# perform 5-fold cross validation to find the best hidden layer size from the options\n",
    "res = GridSearchCV(MLPClassifier(max_iter = MAX_ITER), param_grid={'hidden_layer_sizes': hidden_layer_sizes}, cv=5).fit(data.iloc[:, 0:4], data.iloc[:, 4])"
   ]
  },
  {
   "cell_type": "code",
   "execution_count": 97,
   "metadata": {},
   "outputs": [],
   "source": [
    "X_train, X_test, y_train, y_test = train_test_split(data.iloc[:,0:4], data.iloc[:,4], test_size=0.25, random_state=0)"
   ]
  },
  {
   "cell_type": "code",
   "execution_count": 98,
   "metadata": {},
   "outputs": [
    {
     "data": {
      "text/plain": [
       "({'hidden_layer_sizes': (8,)},\n",
       " 0.9866666666666667,\n",
       " 0.9736842105263158,\n",
       " array(['setosa', 'versicolor', 'virginica'], dtype='<U10'))"
      ]
     },
     "execution_count": 98,
     "metadata": {},
     "output_type": "execute_result"
    }
   ],
   "source": [
    "res.best_params_, res.best_score_, res.score(X_test, y_test), res.classes_"
   ]
  },
  {
   "cell_type": "code",
   "execution_count": 123,
   "metadata": {},
   "outputs": [
    {
     "data": {
      "text/plain": [
       "[(8,), (14, 11), (5, 8), (5,), (14, 8)]"
      ]
     },
     "execution_count": 123,
     "metadata": {},
     "output_type": "execute_result"
    }
   ],
   "source": [
    "# get best 5 models\n",
    "best_indices = res.cv_results_['rank_test_score'].argsort()[:5]\n",
    "best_params = [d['hidden_layer_sizes'] for d in np.array(res.cv_results_['params'])[best_indices]]\n",
    "best_params"
   ]
  },
  {
   "cell_type": "code",
   "execution_count": 139,
   "metadata": {},
   "outputs": [
    {
     "name": "stdout",
     "output_type": "stream",
     "text": [
      "training model with hidden layer sizes (8,)\n",
      "accuracy: 0.9736842105263158\n",
      "shape of layer 0 matrix: (4, 8)\n",
      "shape of layer 1 matrix: (8, 3)\n",
      "\n",
      "training model with hidden layer sizes (14, 11)\n",
      "accuracy: 0.9736842105263158\n",
      "shape of layer 0 matrix: (4, 14)\n",
      "shape of layer 1 matrix: (14, 11)\n",
      "shape of layer 2 matrix: (11, 3)\n",
      "\n",
      "training model with hidden layer sizes (5, 8)\n",
      "accuracy: 0.9736842105263158\n",
      "shape of layer 0 matrix: (4, 5)\n",
      "shape of layer 1 matrix: (5, 8)\n",
      "shape of layer 2 matrix: (8, 3)\n",
      "\n",
      "training model with hidden layer sizes (5,)\n",
      "accuracy: 0.9736842105263158\n",
      "shape of layer 0 matrix: (4, 5)\n",
      "shape of layer 1 matrix: (5, 3)\n",
      "\n",
      "training model with hidden layer sizes (14, 8)\n",
      "accuracy: 0.9736842105263158\n",
      "shape of layer 0 matrix: (4, 14)\n",
      "shape of layer 1 matrix: (14, 8)\n",
      "shape of layer 2 matrix: (8, 3)\n",
      "\n"
     ]
    }
   ],
   "source": [
    "for p in best_params:\n",
    "\tprint(f\"training model with hidden layer sizes {p}\")\n",
    "\tmodel = MLPClassifier(hidden_layer_sizes = p, max_iter = MAX_ITER).fit(X_train, y_train)\n",
    "\tprint(f\"accuracy: {model.score(X_test, y_test)}\")\n",
    "\tfor i, coef in enumerate(model.coefs_):\n",
    "\t\tprint(f\"shape of layer {i} matrix: {coef.shape}\")\n",
    "\n",
    "\t# output model structure, trained weights and biases\n",
    "\t# TODO: binary file\n",
    "\tfname = f'trained_iris_model_{\"_\".join([str(s) for s in p])}.txt'\n",
    "\twith open(f\"models/{fname}\", 'w') as f:\n",
    "\t\tf.write(f\"{p}\\n\")\n",
    "\t\tfor weights, biases in zip(model.coefs_, model.intercepts_):\n",
    "\t\t\tf.write(f\"{weights}\\n\")\n",
    "\t\t\tf.write(f\"{biases}\\n\")\n",
    "\tprint()"
   ]
  }
 ],
 "metadata": {
  "kernelspec": {
   "display_name": "venv",
   "language": "python",
   "name": "python3"
  },
  "language_info": {
   "codemirror_mode": {
    "name": "ipython",
    "version": 3
   },
   "file_extension": ".py",
   "mimetype": "text/x-python",
   "name": "python",
   "nbconvert_exporter": "python",
   "pygments_lexer": "ipython3",
   "version": "3.10.7"
  }
 },
 "nbformat": 4,
 "nbformat_minor": 2
}
