{
 "cells": [
  {
   "cell_type": "code",
   "execution_count": 33,
   "metadata": {},
   "outputs": [
    {
     "data": {
      "text/plain": [
       "['trained_iris_model_11_5',\n",
       " 'trained_iris_model_14_11',\n",
       " 'trained_iris_model_5_11_8',\n",
       " 'trained_iris_model_14_5',\n",
       " 'trained_iris_model_big']"
      ]
     },
     "execution_count": 33,
     "metadata": {},
     "output_type": "execute_result"
    }
   ],
   "source": [
    "models = [i for i in [\"trained_iris_model_11_5\", \"trained_iris_model_14_11\", \"trained_iris_model_5_11_8\", \"trained_iris_model_14_5\", \"trained_iris_model_big\"]]\n",
    "executable_path = \"inference/.stack-work/dist/ab060f89/build/inference-exe/inference-exe.exe\"\n",
    "\n",
    "models"
   ]
  },
  {
   "cell_type": "code",
   "execution_count": 13,
   "metadata": {},
   "outputs": [],
   "source": [
    "import pickle\n",
    "import numpy as np\n",
    "import pandas as pd\n",
    "import matplotlib.pyplot as plt"
   ]
  },
  {
   "cell_type": "code",
   "execution_count": 17,
   "metadata": {},
   "outputs": [
    {
     "data": {
      "text/plain": [
       "(20150, 4)"
      ]
     },
     "execution_count": 17,
     "metadata": {},
     "output_type": "execute_result"
    }
   ],
   "source": [
    "data = \"iris_generated_unlab.csv\"\n",
    "X = np.array(pd.read_csv(data))\n",
    "X.shape"
   ]
  },
  {
   "cell_type": "code",
   "execution_count": 18,
   "metadata": {},
   "outputs": [],
   "source": [
    "RUNS = 10"
   ]
  },
  {
   "cell_type": "code",
   "execution_count": 30,
   "metadata": {},
   "outputs": [],
   "source": [
    "from timeit import default_timer as timer\n",
    "from subprocess import run\n",
    "from os.path import abspath"
   ]
  },
  {
   "cell_type": "code",
   "execution_count": 42,
   "metadata": {},
   "outputs": [
    {
     "name": "stderr",
     "output_type": "stream",
     "text": [
      "c:\\Users\\santr\\My Drive (santripta.sharma_ug24@ashoka.edu.in)\\Academic Work\\Sem6\\FuncProg\\Proj\\venv\\lib\\site-packages\\sklearn\\base.py:493: UserWarning: X does not have valid feature names, but MLPClassifier was fitted with feature names\n",
      "  warnings.warn(\n",
      "c:\\Users\\santr\\My Drive (santripta.sharma_ug24@ashoka.edu.in)\\Academic Work\\Sem6\\FuncProg\\Proj\\venv\\lib\\site-packages\\sklearn\\base.py:493: UserWarning: X does not have valid feature names, but MLPClassifier was fitted with feature names\n",
      "  warnings.warn(\n",
      "c:\\Users\\santr\\My Drive (santripta.sharma_ug24@ashoka.edu.in)\\Academic Work\\Sem6\\FuncProg\\Proj\\venv\\lib\\site-packages\\sklearn\\base.py:493: UserWarning: X does not have valid feature names, but MLPClassifier was fitted with feature names\n",
      "  warnings.warn(\n",
      "c:\\Users\\santr\\My Drive (santripta.sharma_ug24@ashoka.edu.in)\\Academic Work\\Sem6\\FuncProg\\Proj\\venv\\lib\\site-packages\\sklearn\\base.py:493: UserWarning: X does not have valid feature names, but MLPClassifier was fitted with feature names\n",
      "  warnings.warn(\n",
      "c:\\Users\\santr\\My Drive (santripta.sharma_ug24@ashoka.edu.in)\\Academic Work\\Sem6\\FuncProg\\Proj\\venv\\lib\\site-packages\\sklearn\\base.py:493: UserWarning: X does not have valid feature names, but MLPClassifier was fitted with feature names\n",
      "  warnings.warn(\n",
      "c:\\Users\\santr\\My Drive (santripta.sharma_ug24@ashoka.edu.in)\\Academic Work\\Sem6\\FuncProg\\Proj\\venv\\lib\\site-packages\\sklearn\\base.py:493: UserWarning: X does not have valid feature names, but MLPClassifier was fitted with feature names\n",
      "  warnings.warn(\n",
      "c:\\Users\\santr\\My Drive (santripta.sharma_ug24@ashoka.edu.in)\\Academic Work\\Sem6\\FuncProg\\Proj\\venv\\lib\\site-packages\\sklearn\\base.py:493: UserWarning: X does not have valid feature names, but MLPClassifier was fitted with feature names\n",
      "  warnings.warn(\n",
      "c:\\Users\\santr\\My Drive (santripta.sharma_ug24@ashoka.edu.in)\\Academic Work\\Sem6\\FuncProg\\Proj\\venv\\lib\\site-packages\\sklearn\\base.py:493: UserWarning: X does not have valid feature names, but MLPClassifier was fitted with feature names\n",
      "  warnings.warn(\n",
      "c:\\Users\\santr\\My Drive (santripta.sharma_ug24@ashoka.edu.in)\\Academic Work\\Sem6\\FuncProg\\Proj\\venv\\lib\\site-packages\\sklearn\\base.py:493: UserWarning: X does not have valid feature names, but MLPClassifier was fitted with feature names\n",
      "  warnings.warn(\n",
      "c:\\Users\\santr\\My Drive (santripta.sharma_ug24@ashoka.edu.in)\\Academic Work\\Sem6\\FuncProg\\Proj\\venv\\lib\\site-packages\\sklearn\\base.py:493: UserWarning: X does not have valid feature names, but MLPClassifier was fitted with feature names\n",
      "  warnings.warn(\n",
      "c:\\Users\\santr\\My Drive (santripta.sharma_ug24@ashoka.edu.in)\\Academic Work\\Sem6\\FuncProg\\Proj\\venv\\lib\\site-packages\\sklearn\\base.py:493: UserWarning: X does not have valid feature names, but MLPClassifier was fitted with feature names\n",
      "  warnings.warn(\n",
      "c:\\Users\\santr\\My Drive (santripta.sharma_ug24@ashoka.edu.in)\\Academic Work\\Sem6\\FuncProg\\Proj\\venv\\lib\\site-packages\\sklearn\\base.py:493: UserWarning: X does not have valid feature names, but MLPClassifier was fitted with feature names\n",
      "  warnings.warn(\n",
      "c:\\Users\\santr\\My Drive (santripta.sharma_ug24@ashoka.edu.in)\\Academic Work\\Sem6\\FuncProg\\Proj\\venv\\lib\\site-packages\\sklearn\\base.py:493: UserWarning: X does not have valid feature names, but MLPClassifier was fitted with feature names\n",
      "  warnings.warn(\n",
      "c:\\Users\\santr\\My Drive (santripta.sharma_ug24@ashoka.edu.in)\\Academic Work\\Sem6\\FuncProg\\Proj\\venv\\lib\\site-packages\\sklearn\\base.py:493: UserWarning: X does not have valid feature names, but MLPClassifier was fitted with feature names\n",
      "  warnings.warn(\n",
      "c:\\Users\\santr\\My Drive (santripta.sharma_ug24@ashoka.edu.in)\\Academic Work\\Sem6\\FuncProg\\Proj\\venv\\lib\\site-packages\\sklearn\\base.py:493: UserWarning: X does not have valid feature names, but MLPClassifier was fitted with feature names\n",
      "  warnings.warn(\n",
      "c:\\Users\\santr\\My Drive (santripta.sharma_ug24@ashoka.edu.in)\\Academic Work\\Sem6\\FuncProg\\Proj\\venv\\lib\\site-packages\\sklearn\\base.py:493: UserWarning: X does not have valid feature names, but MLPClassifier was fitted with feature names\n",
      "  warnings.warn(\n",
      "c:\\Users\\santr\\My Drive (santripta.sharma_ug24@ashoka.edu.in)\\Academic Work\\Sem6\\FuncProg\\Proj\\venv\\lib\\site-packages\\sklearn\\base.py:493: UserWarning: X does not have valid feature names, but MLPClassifier was fitted with feature names\n",
      "  warnings.warn(\n",
      "c:\\Users\\santr\\My Drive (santripta.sharma_ug24@ashoka.edu.in)\\Academic Work\\Sem6\\FuncProg\\Proj\\venv\\lib\\site-packages\\sklearn\\base.py:493: UserWarning: X does not have valid feature names, but MLPClassifier was fitted with feature names\n",
      "  warnings.warn(\n",
      "c:\\Users\\santr\\My Drive (santripta.sharma_ug24@ashoka.edu.in)\\Academic Work\\Sem6\\FuncProg\\Proj\\venv\\lib\\site-packages\\sklearn\\base.py:493: UserWarning: X does not have valid feature names, but MLPClassifier was fitted with feature names\n",
      "  warnings.warn(\n",
      "c:\\Users\\santr\\My Drive (santripta.sharma_ug24@ashoka.edu.in)\\Academic Work\\Sem6\\FuncProg\\Proj\\venv\\lib\\site-packages\\sklearn\\base.py:493: UserWarning: X does not have valid feature names, but MLPClassifier was fitted with feature names\n",
      "  warnings.warn(\n",
      "c:\\Users\\santr\\My Drive (santripta.sharma_ug24@ashoka.edu.in)\\Academic Work\\Sem6\\FuncProg\\Proj\\venv\\lib\\site-packages\\sklearn\\base.py:493: UserWarning: X does not have valid feature names, but MLPClassifier was fitted with feature names\n",
      "  warnings.warn(\n",
      "c:\\Users\\santr\\My Drive (santripta.sharma_ug24@ashoka.edu.in)\\Academic Work\\Sem6\\FuncProg\\Proj\\venv\\lib\\site-packages\\sklearn\\base.py:493: UserWarning: X does not have valid feature names, but MLPClassifier was fitted with feature names\n",
      "  warnings.warn(\n",
      "c:\\Users\\santr\\My Drive (santripta.sharma_ug24@ashoka.edu.in)\\Academic Work\\Sem6\\FuncProg\\Proj\\venv\\lib\\site-packages\\sklearn\\base.py:493: UserWarning: X does not have valid feature names, but MLPClassifier was fitted with feature names\n",
      "  warnings.warn(\n",
      "c:\\Users\\santr\\My Drive (santripta.sharma_ug24@ashoka.edu.in)\\Academic Work\\Sem6\\FuncProg\\Proj\\venv\\lib\\site-packages\\sklearn\\base.py:493: UserWarning: X does not have valid feature names, but MLPClassifier was fitted with feature names\n",
      "  warnings.warn(\n",
      "c:\\Users\\santr\\My Drive (santripta.sharma_ug24@ashoka.edu.in)\\Academic Work\\Sem6\\FuncProg\\Proj\\venv\\lib\\site-packages\\sklearn\\base.py:493: UserWarning: X does not have valid feature names, but MLPClassifier was fitted with feature names\n",
      "  warnings.warn(\n",
      "c:\\Users\\santr\\My Drive (santripta.sharma_ug24@ashoka.edu.in)\\Academic Work\\Sem6\\FuncProg\\Proj\\venv\\lib\\site-packages\\sklearn\\base.py:493: UserWarning: X does not have valid feature names, but MLPClassifier was fitted with feature names\n",
      "  warnings.warn(\n",
      "c:\\Users\\santr\\My Drive (santripta.sharma_ug24@ashoka.edu.in)\\Academic Work\\Sem6\\FuncProg\\Proj\\venv\\lib\\site-packages\\sklearn\\base.py:493: UserWarning: X does not have valid feature names, but MLPClassifier was fitted with feature names\n",
      "  warnings.warn(\n",
      "c:\\Users\\santr\\My Drive (santripta.sharma_ug24@ashoka.edu.in)\\Academic Work\\Sem6\\FuncProg\\Proj\\venv\\lib\\site-packages\\sklearn\\base.py:493: UserWarning: X does not have valid feature names, but MLPClassifier was fitted with feature names\n",
      "  warnings.warn(\n",
      "c:\\Users\\santr\\My Drive (santripta.sharma_ug24@ashoka.edu.in)\\Academic Work\\Sem6\\FuncProg\\Proj\\venv\\lib\\site-packages\\sklearn\\base.py:493: UserWarning: X does not have valid feature names, but MLPClassifier was fitted with feature names\n",
      "  warnings.warn(\n",
      "c:\\Users\\santr\\My Drive (santripta.sharma_ug24@ashoka.edu.in)\\Academic Work\\Sem6\\FuncProg\\Proj\\venv\\lib\\site-packages\\sklearn\\base.py:493: UserWarning: X does not have valid feature names, but MLPClassifier was fitted with feature names\n",
      "  warnings.warn(\n",
      "c:\\Users\\santr\\My Drive (santripta.sharma_ug24@ashoka.edu.in)\\Academic Work\\Sem6\\FuncProg\\Proj\\venv\\lib\\site-packages\\sklearn\\base.py:493: UserWarning: X does not have valid feature names, but MLPClassifier was fitted with feature names\n",
      "  warnings.warn(\n",
      "c:\\Users\\santr\\My Drive (santripta.sharma_ug24@ashoka.edu.in)\\Academic Work\\Sem6\\FuncProg\\Proj\\venv\\lib\\site-packages\\sklearn\\base.py:493: UserWarning: X does not have valid feature names, but MLPClassifier was fitted with feature names\n",
      "  warnings.warn(\n",
      "c:\\Users\\santr\\My Drive (santripta.sharma_ug24@ashoka.edu.in)\\Academic Work\\Sem6\\FuncProg\\Proj\\venv\\lib\\site-packages\\sklearn\\base.py:493: UserWarning: X does not have valid feature names, but MLPClassifier was fitted with feature names\n",
      "  warnings.warn(\n",
      "c:\\Users\\santr\\My Drive (santripta.sharma_ug24@ashoka.edu.in)\\Academic Work\\Sem6\\FuncProg\\Proj\\venv\\lib\\site-packages\\sklearn\\base.py:493: UserWarning: X does not have valid feature names, but MLPClassifier was fitted with feature names\n",
      "  warnings.warn(\n",
      "c:\\Users\\santr\\My Drive (santripta.sharma_ug24@ashoka.edu.in)\\Academic Work\\Sem6\\FuncProg\\Proj\\venv\\lib\\site-packages\\sklearn\\base.py:493: UserWarning: X does not have valid feature names, but MLPClassifier was fitted with feature names\n",
      "  warnings.warn(\n",
      "c:\\Users\\santr\\My Drive (santripta.sharma_ug24@ashoka.edu.in)\\Academic Work\\Sem6\\FuncProg\\Proj\\venv\\lib\\site-packages\\sklearn\\base.py:493: UserWarning: X does not have valid feature names, but MLPClassifier was fitted with feature names\n",
      "  warnings.warn(\n",
      "c:\\Users\\santr\\My Drive (santripta.sharma_ug24@ashoka.edu.in)\\Academic Work\\Sem6\\FuncProg\\Proj\\venv\\lib\\site-packages\\sklearn\\base.py:493: UserWarning: X does not have valid feature names, but MLPClassifier was fitted with feature names\n",
      "  warnings.warn(\n",
      "c:\\Users\\santr\\My Drive (santripta.sharma_ug24@ashoka.edu.in)\\Academic Work\\Sem6\\FuncProg\\Proj\\venv\\lib\\site-packages\\sklearn\\base.py:493: UserWarning: X does not have valid feature names, but MLPClassifier was fitted with feature names\n",
      "  warnings.warn(\n",
      "c:\\Users\\santr\\My Drive (santripta.sharma_ug24@ashoka.edu.in)\\Academic Work\\Sem6\\FuncProg\\Proj\\venv\\lib\\site-packages\\sklearn\\base.py:493: UserWarning: X does not have valid feature names, but MLPClassifier was fitted with feature names\n",
      "  warnings.warn(\n",
      "c:\\Users\\santr\\My Drive (santripta.sharma_ug24@ashoka.edu.in)\\Academic Work\\Sem6\\FuncProg\\Proj\\venv\\lib\\site-packages\\sklearn\\base.py:493: UserWarning: X does not have valid feature names, but MLPClassifier was fitted with feature names\n",
      "  warnings.warn(\n",
      "c:\\Users\\santr\\My Drive (santripta.sharma_ug24@ashoka.edu.in)\\Academic Work\\Sem6\\FuncProg\\Proj\\venv\\lib\\site-packages\\sklearn\\base.py:493: UserWarning: X does not have valid feature names, but MLPClassifier was fitted with feature names\n",
      "  warnings.warn(\n",
      "c:\\Users\\santr\\My Drive (santripta.sharma_ug24@ashoka.edu.in)\\Academic Work\\Sem6\\FuncProg\\Proj\\venv\\lib\\site-packages\\sklearn\\base.py:493: UserWarning: X does not have valid feature names, but MLPClassifier was fitted with feature names\n",
      "  warnings.warn(\n",
      "c:\\Users\\santr\\My Drive (santripta.sharma_ug24@ashoka.edu.in)\\Academic Work\\Sem6\\FuncProg\\Proj\\venv\\lib\\site-packages\\sklearn\\base.py:493: UserWarning: X does not have valid feature names, but MLPClassifier was fitted with feature names\n",
      "  warnings.warn(\n",
      "c:\\Users\\santr\\My Drive (santripta.sharma_ug24@ashoka.edu.in)\\Academic Work\\Sem6\\FuncProg\\Proj\\venv\\lib\\site-packages\\sklearn\\base.py:493: UserWarning: X does not have valid feature names, but MLPClassifier was fitted with feature names\n",
      "  warnings.warn(\n",
      "c:\\Users\\santr\\My Drive (santripta.sharma_ug24@ashoka.edu.in)\\Academic Work\\Sem6\\FuncProg\\Proj\\venv\\lib\\site-packages\\sklearn\\base.py:493: UserWarning: X does not have valid feature names, but MLPClassifier was fitted with feature names\n",
      "  warnings.warn(\n",
      "c:\\Users\\santr\\My Drive (santripta.sharma_ug24@ashoka.edu.in)\\Academic Work\\Sem6\\FuncProg\\Proj\\venv\\lib\\site-packages\\sklearn\\base.py:493: UserWarning: X does not have valid feature names, but MLPClassifier was fitted with feature names\n",
      "  warnings.warn(\n",
      "c:\\Users\\santr\\My Drive (santripta.sharma_ug24@ashoka.edu.in)\\Academic Work\\Sem6\\FuncProg\\Proj\\venv\\lib\\site-packages\\sklearn\\base.py:493: UserWarning: X does not have valid feature names, but MLPClassifier was fitted with feature names\n",
      "  warnings.warn(\n",
      "c:\\Users\\santr\\My Drive (santripta.sharma_ug24@ashoka.edu.in)\\Academic Work\\Sem6\\FuncProg\\Proj\\venv\\lib\\site-packages\\sklearn\\base.py:493: UserWarning: X does not have valid feature names, but MLPClassifier was fitted with feature names\n",
      "  warnings.warn(\n",
      "c:\\Users\\santr\\My Drive (santripta.sharma_ug24@ashoka.edu.in)\\Academic Work\\Sem6\\FuncProg\\Proj\\venv\\lib\\site-packages\\sklearn\\base.py:493: UserWarning: X does not have valid feature names, but MLPClassifier was fitted with feature names\n",
      "  warnings.warn(\n",
      "c:\\Users\\santr\\My Drive (santripta.sharma_ug24@ashoka.edu.in)\\Academic Work\\Sem6\\FuncProg\\Proj\\venv\\lib\\site-packages\\sklearn\\base.py:493: UserWarning: X does not have valid feature names, but MLPClassifier was fitted with feature names\n",
      "  warnings.warn(\n"
     ]
    },
    {
     "name": "stdout",
     "output_type": "stream",
     "text": [
      "{'trained_iris_model_11_5': [0.004203199991025031, 0.0038109000015538186, 0.004416899988427758, 0.00342550000641495, 0.004761399992275983, 0.0031891999824438244, 0.004270399978850037, 0.003967399999964982, 0.0034556000027805567, 0.004499999980907887], 'trained_iris_model_14_11': [0.0048386999987997115, 0.0037167000118643045, 0.006060799991246313, 0.00867479998851195, 0.0046771000197622925, 0.005336200003512204, 0.004685899999458343, 0.004733300011139363, 0.0046888000215403736, 0.003803100000368431], 'trained_iris_model_5_11_8': [0.0044234999804757535, 0.004051600000821054, 0.004207400023005903, 0.0038626999885309488, 0.0037628999853041023, 0.004034000012325123, 0.003805700020166114, 0.0038191000057850033, 0.004995800001779571, 0.004869800002779812], 'trained_iris_model_14_5': [0.003989100019680336, 0.0036211000115145, 0.0036965999752283096, 0.003215599979739636, 0.0031527999963145703, 0.003492800024105236, 0.003256399999372661, 0.003450499993050471, 0.0033027000026777387, 0.0034013999975286424], 'trained_iris_model_big': [0.03155260000494309, 0.03382010001223534, 0.023199499992188066, 0.027139600017108023, 0.026996900007361546, 0.02693100000033155, 0.031138399994233623, 0.025013300008140504, 0.026197099999990314, 0.029139799997210503]}\n",
      "{'trained_iris_model_11_5': [0.59, 0.62, 0.67, 0.72, 0.7, 0.77, 0.7, 0.8, 0.69, 0.62], 'trained_iris_model_14_11': [0.64, 0.72, 0.58, 0.81, 0.75, 0.67, 0.72, 0.72, 0.67, 0.77], 'trained_iris_model_5_11_8': [0.69, 0.8, 0.75, 0.66, 0.69, 0.64, 0.67, 0.67, 0.72, 0.78], 'trained_iris_model_14_5': [0.62, 0.69, 0.69, 0.62, 0.72, 0.62, 0.67, 0.7, 0.69, 0.66], 'trained_iris_model_big': [0.73, 0.75, 0.67, 0.8, 0.88, 0.81, 0.73, 0.66, 0.75, 0.73]}\n"
     ]
    }
   ],
   "source": [
    "sklearn_times = {model: [] for model in models}\n",
    "haskell_times = {model: [] for model in models}\n",
    "\n",
    "for model in models:\n",
    "\twith open(\"models/\" + model + \".pkl\", \"rb\") as f:\n",
    "\t\tffn = pickle.load(f)\n",
    "\t\n",
    "\tfor i in range(RUNS):\n",
    "\t\tstart = timer()\n",
    "\t\tffn.predict_proba(X)\n",
    "\t\tend = timer()\n",
    "\t\tsklearn_times[model].append(end - start)\n",
    "\n",
    "\tfor i in range(RUNS):\n",
    "\t\tres = run([executable_path, \"weights/\" + model + \".txt\", data, \"unger\", \"bunger\"], capture_output = True)\n",
    "\t\tout = str(res.stdout)\n",
    "\t\ttime = float(out.split(\":\")[1].replace(\"\\\\r\", \"\").replace(\"\\\\n\", \"\").replace(\"s\", \"\").replace(\"'\", \"\").strip())\n",
    "\t\thaskell_times[model].append(time)\n",
    "\n",
    "\t\n",
    "\t\n",
    "print(sklearn_times)\n",
    "print(haskell_times)"
   ]
  },
  {
   "cell_type": "code",
   "execution_count": 68,
   "metadata": {},
   "outputs": [
    {
     "data": {
      "image/png": "[encoded data removed]",
      "text/plain": [
       "<Figure size 640x480 with 1 Axes>"
      ]
     },
     "metadata": {},
     "output_type": "display_data"
    }
   ],
   "source": [
    "sklearn_avgs = {\", \".join(key.split(\"_\")[3:]): np.average(val) for (key, val) in sklearn_times.items()}\n",
    "haskell_avgs = {\", \".join(key.split(\"_\")[3:]): np.average(val) for (key, val) in haskell_times.items()}\n",
    "\n",
    "x_keys = [\"Scikit-learn\", \"Ours (Haskell)\"]\n",
    "vals = {\n",
    "\tkey: (sklearn_avgs[key], haskell_avgs[key]) for key in sklearn_avgs.keys()\n",
    "}\n",
    "\n",
    "x = np.arange(len(x_keys))\n",
    "width = 0.15  # the width of the bars\n",
    "multiplier = 0\n",
    "\n",
    "fig, ax = plt.subplots(layout='constrained')\n",
    "\n",
    "for attribute, measurement in vals.items():\n",
    "    offset = width * multiplier\n",
    "    rects = ax.bar(x + offset, measurement, width, label=attribute)\n",
    "    ax.bar_label(rects, padding=3)\n",
    "    multiplier += 1\n",
    "\n",
    "# Add some text for labels, title and custom x-axis tick labels, etc.\n",
    "ax.set_xticks(x + width * 1.9, x_keys)\n",
    "ax.legend(loc='upper left', ncols=3)\n",
    "\n",
    "ax.set_ylim(0, 0.8)\n",
    "\n",
    "plt.show()\n",
    "fig.savefig(\"benchmark.png\")"
   ]
  }
 ],
 "metadata": {
  "kernelspec": {
   "display_name": "venv",
   "language": "python",
   "name": "python3"
  },
  "language_info": {
   "codemirror_mode": {
    "name": "ipython",
    "version": 3
   },
   "file_extension": ".py",
   "mimetype": "text/x-python",
   "name": "python",
   "nbconvert_exporter": "python",
   "pygments_lexer": "ipython3",
   "version": "3.10.7"
  }
 },
 "nbformat": 4,
 "nbformat_minor": 2
}
